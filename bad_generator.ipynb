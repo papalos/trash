{
 "cells": [
  {
   "cell_type": "code",
   "execution_count": 1,
   "metadata": {},
   "outputs": [],
   "source": [
    "from random import randint, choice"
   ]
  },
  {
   "cell_type": "code",
   "execution_count": 2,
   "metadata": {},
   "outputs": [],
   "source": [
    "list_type_normal = ['Ул.','Пл.','Пр.']\n",
    "list_type_bad = [\n",
    "    ('Б-р','отсутствующее значение в перечне'),\n",
    "    ('пл.','неверный регистр букв в типе'),\n",
    "    ('','пустая строка в типе'),\n",
    "    ('St.','не кириллические символы в типе'),\n",
    "    ('#№*','не буквенные символы в типе'),\n",
    "    (789,'числовой код вместо буквенного сокращения в типе'),\n",
    "    ('улица','неверный формат значения в типе'),\n",
    "    ('Пр. Буденого','склейка со значением из следующего столбца в типе'),\n",
    "    (None,'пустое значение в типе')\n",
    "]"
   ]
  },
  {
   "cell_type": "code",
   "execution_count": 3,
   "metadata": {},
   "outputs": [],
   "source": [
    "list_name_normal = ['Гагарина','Революции','Ленина','Свободы','Петра Велигого','генерал Атаманова','Врачей']\n",
    "list_name_bad = [\n",
    "    ('боярина сенчукова','неверный регистр букв в названии улицы'),\n",
    "    ('','пустая строка в названии улицы'),\n",
    "    ('Semashko','не кириллические символы в названии улицы'),\n",
    "    ('#№*','не буквенные символы в названии улицы'),\n",
    "    (789,'числовой код вместо названия улицы'),\n",
    "    (' Жукова','символ пробела в начале названия улицы'),\n",
    "    ('Пр. Буденого','склейка со значением из предыдущего столбца в названии улицы'),\n",
    "    (None,'пустое значение в названии улицы')\n",
    "]"
   ]
  },
  {
   "cell_type": "code",
   "execution_count": 4,
   "metadata": {},
   "outputs": [],
   "source": [
    "house_number_bad = [\n",
    "    (2.45,'число с плавающей точкой в номере дома'),\n",
    "    (-15,'отрицательное значение в номере дома'),\n",
    "    ('54/2','дом имеет дробь'),\n",
    "    ('#№*','не числовые символы в номере дома'),\n",
    "    (999,'предельные числа в номере дома'),\n",
    "    ('девять','число прописью в номере дома'),\n",
    "    (None,'пустое значение в названии улицы'),\n",
    "    ('5в','дом имеет строение обозначенное буквой'),\n",
    "    ('дом 33','номер дома внутри строки'),\n",
    "    ('7 корпус 1','номер дома имеет корпус')\n",
    "]"
   ]
  },
  {
   "cell_type": "code",
   "execution_count": 5,
   "metadata": {},
   "outputs": [],
   "source": [
    "flat_number_bad = [\n",
    "    (4.8,'число с плавающей точкой в номере квартиры'),\n",
    "    (-15,'отрицательное значение в номере квартиры'),\n",
    "    ('#№*','не числовые символы в номере квартиры'),\n",
    "    (2000,'предельные числа в номере квартиры'),\n",
    "    ('девять','число прописью в номере квартиры'),\n",
    "    (None,'пустое значение в номере квартиры'),\n",
    "    ('кв. 33','номер квартиры внутри строки'),\n",
    "    (' ','пробельные символ в качестве отсутствия квартиры в частном доме'),\n",
    "    ('-','дефис в качестве отсутствия квартиры в частном доме')\n",
    "]"
   ]
  },
  {
   "cell_type": "code",
   "execution_count": 6,
   "metadata": {},
   "outputs": [],
   "source": [
    "import csv\n",
    "with open('test_address.csv', 'w', newline='') as csvfile:\n",
    "    spamwriter = csv.writer(csvfile, delimiter=';')\n",
    "    # формируем заголовок\n",
    "    spamwriter.writerow(['Тип', 'Название', 'Номер дома', 'Номер квартиры', 'Проверка'])\n",
    "    # генерируем корректные данные\n",
    "    [spamwriter.writerow([choice(list_type_normal), i, randint(1,100),randint(1,100), 'корректные данные']) for i in list_name_normal]\n",
    "    # генерируем данные с ошибкой\n",
    "    [spamwriter.writerow([i[0], choice(list_name_normal), randint(1,100), randint(1,100), i[1]]) for i in list_type_bad]\n",
    "    [spamwriter.writerow([choice(list_type_normal), i[0], randint(1,100), randint(1,100), i[1]]) for i in list_name_bad]\n",
    "    [spamwriter.writerow([choice(list_type_normal), choice(list_name_normal), i[0], randint(1,100), i[1]]) for i in house_number_bad]\n",
    "    [spamwriter.writerow([choice(list_type_normal), choice(list_name_normal), randint(1,100), i[0], i[1]]) for i in flat_number_bad]"
   ]
  },
  {
   "cell_type": "code",
   "execution_count": null,
   "metadata": {},
   "outputs": [],
   "source": []
  }
 ],
 "metadata": {
  "kernelspec": {
   "display_name": "Python 3",
   "language": "python",
   "name": "python3"
  },
  "language_info": {
   "codemirror_mode": {
    "name": "ipython",
    "version": 3
   },
   "file_extension": ".py",
   "mimetype": "text/x-python",
   "name": "python",
   "nbconvert_exporter": "python",
   "pygments_lexer": "ipython3",
   "version": "3.8.3"
  }
 },
 "nbformat": 4,
 "nbformat_minor": 4
}
